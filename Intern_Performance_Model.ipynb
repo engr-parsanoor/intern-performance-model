{
  "nbformat": 4,
  "nbformat_minor": 0,
  "metadata": {
    "colab": {
      "provenance": []
    },
    "kernelspec": {
      "name": "python3",
      "display_name": "Python 3"
    },
    "language_info": {
      "name": "python"
    }
  },
  "cells": [
    {
      "cell_type": "code",
      "execution_count": 5,
      "metadata": {
        "colab": {
          "base_uri": "https://localhost:8080/"
        },
        "collapsed": true,
        "id": "5kF-vnIdeics",
        "outputId": "f90da9ad-9e13-4421-903c-d0f3a2a0c7bd"
      },
      "outputs": [
        {
          "output_type": "stream",
          "name": "stdout",
          "text": [
            "Sample data:\n",
            "     Name  Attendance  TestScore  TechnicalSkill FinalPerformance\n",
            "0     Ali          90         85              88             Good\n",
            "1    Sara          70         78              75          Average\n",
            "2    Zain          60         65              60             Poor\n",
            "3  Ayesha          95         90              92             Good\n",
            "4  Hammad          50         55              50             Poor\n",
            "\n",
            "Predictions: [0 0]\n",
            "Accuracy of the model: 50.0 %\n"
          ]
        },
        {
          "output_type": "stream",
          "name": "stderr",
          "text": [
            "/usr/local/lib/python3.11/dist-packages/sklearn/linear_model/_logistic.py:465: ConvergenceWarning: lbfgs failed to converge (status=1):\n",
            "STOP: TOTAL NO. OF ITERATIONS REACHED LIMIT.\n",
            "\n",
            "Increase the number of iterations (max_iter) or scale the data as shown in:\n",
            "    https://scikit-learn.org/stable/modules/preprocessing.html\n",
            "Please also refer to the documentation for alternative solver options:\n",
            "    https://scikit-learn.org/stable/modules/linear_model.html#logistic-regression\n",
            "  n_iter_i = _check_optimize_result(\n"
          ]
        }
      ],
      "source": [
        "# Import required libraries\n",
        "import pandas as pd\n",
        "from sklearn.model_selection import train_test_split\n",
        "from sklearn.linear_model import LogisticRegression\n",
        "from sklearn.preprocessing import LabelEncoder\n",
        "from sklearn.metrics import accuracy_score\n",
        "\n",
        "# Load the dataset\n",
        "df = pd.read_csv('/content/intern_data.csv')\n",
        "print(\"Sample data:\")\n",
        "print(df.head())\n",
        "\n",
        "# Encode categorical target column\n",
        "label = LabelEncoder()\n",
        "df['FinalPerformance'] = label.fit_transform(df['FinalPerformance'])  # Good = 2, Average = 0, Poor = 1\n",
        "\n",
        "# Feature selection\n",
        "X = df[['Attendance', 'TestScore', 'TechnicalSkill']]\n",
        "y = df['FinalPerformance']\n",
        "\n",
        "# Split into training and testing data\n",
        "X_train, X_test, y_train, y_test = train_test_split(X, y, test_size=0.25, random_state=42)\n",
        "\n",
        "# Build and train the model\n",
        "model = LogisticRegression()\n",
        "model.fit(X_train, y_train)\n",
        "\n",
        "# Predict and evaluate\n",
        "y_pred = model.predict(X_test)\n",
        "acc = accuracy_score(y_test, y_pred)\n",
        "\n",
        "print(\"\\nPredictions:\", y_pred)\n",
        "print(\"Accuracy of the model:\", round(acc * 100, 2), \"%\")\n",
        "\n"
      ]
    }
  ]
}